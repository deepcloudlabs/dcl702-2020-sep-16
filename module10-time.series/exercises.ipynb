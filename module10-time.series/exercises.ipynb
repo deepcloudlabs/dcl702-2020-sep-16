{
 "cells": [
  {
   "cell_type": "code",
   "execution_count": 12,
   "metadata": {},
   "outputs": [],
   "source": [
    "from datetime import datetime, timedelta, timezone"
   ]
  },
  {
   "cell_type": "code",
   "execution_count": 2,
   "metadata": {},
   "outputs": [],
   "source": [
    "now = datetime.now()"
   ]
  },
  {
   "cell_type": "code",
   "execution_count": 3,
   "metadata": {
    "scrolled": true
   },
   "outputs": [
    {
     "data": {
      "text/plain": [
       "datetime.datetime(2020, 9, 18, 15, 5, 0, 31140)"
      ]
     },
     "execution_count": 3,
     "metadata": {},
     "output_type": "execute_result"
    }
   ],
   "source": [
    "now"
   ]
  },
  {
   "cell_type": "code",
   "execution_count": 4,
   "metadata": {},
   "outputs": [
    {
     "data": {
      "text/plain": [
       "2020"
      ]
     },
     "execution_count": 4,
     "metadata": {},
     "output_type": "execute_result"
    }
   ],
   "source": [
    "now.year"
   ]
  },
  {
   "cell_type": "code",
   "execution_count": 5,
   "metadata": {},
   "outputs": [
    {
     "data": {
      "text/plain": [
       "(9, 18, 0, 5)"
      ]
     },
     "execution_count": 5,
     "metadata": {},
     "output_type": "execute_result"
    }
   ],
   "source": [
    "now.month, now.day, now.second, now.minute"
   ]
  },
  {
   "cell_type": "code",
   "execution_count": 10,
   "metadata": {},
   "outputs": [],
   "source": [
    "delta = datetime(2020, 9, 18) - datetime(1973,7,11, 11, 25)"
   ]
  },
  {
   "cell_type": "code",
   "execution_count": 11,
   "metadata": {
    "scrolled": true
   },
   "outputs": [
    {
     "data": {
      "text/plain": [
       "(17235, 45300)"
      ]
     },
     "execution_count": 11,
     "metadata": {},
     "output_type": "execute_result"
    }
   ],
   "source": [
    "delta.days, delta.seconds"
   ]
  },
  {
   "cell_type": "code",
   "execution_count": 13,
   "metadata": {},
   "outputs": [],
   "source": [
    "start = datetime(2011, 1, 7)"
   ]
  },
  {
   "cell_type": "code",
   "execution_count": 15,
   "metadata": {
    "scrolled": true
   },
   "outputs": [
    {
     "data": {
      "text/plain": [
       "datetime.datetime(2011, 1, 19, 0, 0)"
      ]
     },
     "execution_count": 15,
     "metadata": {},
     "output_type": "execute_result"
    }
   ],
   "source": [
    "start + timedelta(12)"
   ]
  },
  {
   "cell_type": "code",
   "execution_count": 16,
   "metadata": {
    "scrolled": false
   },
   "outputs": [
    {
     "data": {
      "text/plain": [
       "datetime.datetime(2010, 12, 14, 0, 0)"
      ]
     },
     "execution_count": 16,
     "metadata": {},
     "output_type": "execute_result"
    }
   ],
   "source": [
    "start - 2 * timedelta(12)"
   ]
  },
  {
   "cell_type": "code",
   "execution_count": 18,
   "metadata": {},
   "outputs": [],
   "source": [
    "t1 = datetime(1973, 7, 11)"
   ]
  },
  {
   "cell_type": "code",
   "execution_count": 19,
   "metadata": {},
   "outputs": [
    {
     "data": {
      "text/plain": [
       "'1973-07-11 00:00:00'"
      ]
     },
     "execution_count": 19,
     "metadata": {},
     "output_type": "execute_result"
    }
   ],
   "source": [
    "str(t1)"
   ]
  },
  {
   "cell_type": "code",
   "execution_count": 23,
   "metadata": {},
   "outputs": [
    {
     "data": {
      "text/plain": [
       "'1973-07-11 3 28'"
      ]
     },
     "execution_count": 23,
     "metadata": {},
     "output_type": "execute_result"
    }
   ],
   "source": [
    "t1.strftime('%Y-%m-%d %w %W')"
   ]
  },
  {
   "cell_type": "code",
   "execution_count": 21,
   "metadata": {},
   "outputs": [
    {
     "data": {
      "text/plain": [
       "'73-07-11'"
      ]
     },
     "execution_count": 21,
     "metadata": {},
     "output_type": "execute_result"
    }
   ],
   "source": [
    "t1.strftime('%y-%m-%d')"
   ]
  },
  {
   "cell_type": "code",
   "execution_count": 24,
   "metadata": {},
   "outputs": [],
   "source": [
    "s1 = '1941-02-15'"
   ]
  },
  {
   "cell_type": "code",
   "execution_count": 25,
   "metadata": {},
   "outputs": [
    {
     "data": {
      "text/plain": [
       "datetime.datetime(1941, 2, 15, 0, 0)"
      ]
     },
     "execution_count": 25,
     "metadata": {},
     "output_type": "execute_result"
    }
   ],
   "source": [
    "datetime.strptime(s1, '%Y-%m-%d')"
   ]
  },
  {
   "cell_type": "code",
   "execution_count": 26,
   "metadata": {},
   "outputs": [],
   "source": [
    "s2 = ['7/6/1986', '8/7/1992', '1/1/2020']"
   ]
  },
  {
   "cell_type": "code",
   "execution_count": 28,
   "metadata": {},
   "outputs": [
    {
     "data": {
      "text/plain": [
       "[datetime.datetime(1986, 7, 6, 0, 0),\n",
       " datetime.datetime(1992, 8, 7, 0, 0),\n",
       " datetime.datetime(2020, 1, 1, 0, 0)]"
      ]
     },
     "execution_count": 28,
     "metadata": {},
     "output_type": "execute_result"
    }
   ],
   "source": [
    "[datetime.strptime(x, '%m/%d/%Y') for x in s2]"
   ]
  },
  {
   "cell_type": "code",
   "execution_count": 29,
   "metadata": {},
   "outputs": [],
   "source": [
    "from dateutil.parser import parse"
   ]
  },
  {
   "cell_type": "code",
   "execution_count": 30,
   "metadata": {},
   "outputs": [
    {
     "data": {
      "text/plain": [
       "datetime.datetime(2020, 1, 1, 0, 0)"
      ]
     },
     "execution_count": 30,
     "metadata": {},
     "output_type": "execute_result"
    }
   ],
   "source": [
    "parse('2020-01-01')"
   ]
  },
  {
   "cell_type": "code",
   "execution_count": 31,
   "metadata": {},
   "outputs": [
    {
     "data": {
      "text/plain": [
       "datetime.datetime(1973, 7, 11, 10, 15)"
      ]
     },
     "execution_count": 31,
     "metadata": {},
     "output_type": "execute_result"
    }
   ],
   "source": [
    "parse('Jul 11, 1973 10:15 AM')"
   ]
  },
  {
   "cell_type": "code",
   "execution_count": 32,
   "metadata": {},
   "outputs": [],
   "source": [
    "s3 = ['2020-01-06 11:22:30', '2020-02-16 23:12:24']"
   ]
  },
  {
   "cell_type": "code",
   "execution_count": 43,
   "metadata": {},
   "outputs": [],
   "source": [
    "import pandas as pd\n",
    "import numpy as np"
   ]
  },
  {
   "cell_type": "code",
   "execution_count": 36,
   "metadata": {},
   "outputs": [],
   "source": [
    "tidx = pd.to_datetime(s3 + [None, None])"
   ]
  },
  {
   "cell_type": "code",
   "execution_count": 37,
   "metadata": {},
   "outputs": [
    {
     "data": {
      "text/plain": [
       "Timestamp('2020-01-06 11:22:30')"
      ]
     },
     "execution_count": 37,
     "metadata": {},
     "output_type": "execute_result"
    }
   ],
   "source": [
    "tidx[0]"
   ]
  },
  {
   "cell_type": "code",
   "execution_count": 38,
   "metadata": {},
   "outputs": [
    {
     "data": {
      "text/plain": [
       "Timestamp('2020-02-16 23:12:24')"
      ]
     },
     "execution_count": 38,
     "metadata": {},
     "output_type": "execute_result"
    }
   ],
   "source": [
    "tidx[1]"
   ]
  },
  {
   "cell_type": "code",
   "execution_count": 39,
   "metadata": {},
   "outputs": [
    {
     "data": {
      "text/plain": [
       "DatetimeIndex(['2020-01-06 11:22:30', '2020-02-16 23:12:24', 'NaT', 'NaT'], dtype='datetime64[ns]', freq=None)"
      ]
     },
     "execution_count": 39,
     "metadata": {},
     "output_type": "execute_result"
    }
   ],
   "source": [
    "tidx"
   ]
  },
  {
   "cell_type": "code",
   "execution_count": 40,
   "metadata": {
    "scrolled": true
   },
   "outputs": [
    {
     "data": {
      "text/plain": [
       "array([False, False,  True,  True])"
      ]
     },
     "execution_count": 40,
     "metadata": {},
     "output_type": "execute_result"
    }
   ],
   "source": [
    "pd.isnull(tidx)"
   ]
  },
  {
   "cell_type": "code",
   "execution_count": 41,
   "metadata": {},
   "outputs": [],
   "source": [
    "tidx2 = [datetime(2010, 1, 2), datetime(2010, 1, 5),\n",
    "         datetime(2010, 1, 7), datetime(2010, 1, 8),\n",
    "        datetime(2010, 1, 10), datetime(2010, 1, 12)]"
   ]
  },
  {
   "cell_type": "code",
   "execution_count": 44,
   "metadata": {},
   "outputs": [],
   "source": [
    "ts1 = pd.Series(np.random.randn(6), index=tidx2)"
   ]
  },
  {
   "cell_type": "code",
   "execution_count": 45,
   "metadata": {
    "scrolled": true
   },
   "outputs": [
    {
     "data": {
      "text/plain": [
       "2010-01-02    0.376338\n",
       "2010-01-05   -0.556140\n",
       "2010-01-07   -0.619890\n",
       "2010-01-08    0.234467\n",
       "2010-01-10   -1.359477\n",
       "2010-01-12   -1.278827\n",
       "dtype: float64"
      ]
     },
     "execution_count": 45,
     "metadata": {},
     "output_type": "execute_result"
    }
   ],
   "source": [
    "ts1"
   ]
  },
  {
   "cell_type": "code",
   "execution_count": 46,
   "metadata": {},
   "outputs": [
    {
     "data": {
      "text/plain": [
       "DatetimeIndex(['2010-01-02', '2010-01-05', '2010-01-07', '2010-01-08',\n",
       "               '2010-01-10', '2010-01-12'],\n",
       "              dtype='datetime64[ns]', freq=None)"
      ]
     },
     "execution_count": 46,
     "metadata": {},
     "output_type": "execute_result"
    }
   ],
   "source": [
    "ts1.index"
   ]
  },
  {
   "cell_type": "code",
   "execution_count": 47,
   "metadata": {},
   "outputs": [
    {
     "data": {
      "text/plain": [
       "2010-01-02    0.752677\n",
       "2010-01-05         NaN\n",
       "2010-01-07   -1.239779\n",
       "2010-01-08         NaN\n",
       "2010-01-10   -2.718954\n",
       "2010-01-12         NaN\n",
       "dtype: float64"
      ]
     },
     "execution_count": 47,
     "metadata": {},
     "output_type": "execute_result"
    }
   ],
   "source": [
    "ts1 + ts1[::2]"
   ]
  },
  {
   "cell_type": "code",
   "execution_count": 49,
   "metadata": {},
   "outputs": [
    {
     "data": {
      "text/plain": [
       "dtype('<M8[ns]')"
      ]
     },
     "execution_count": 49,
     "metadata": {},
     "output_type": "execute_result"
    }
   ],
   "source": [
    "ts1.index.dtype"
   ]
  },
  {
   "cell_type": "code",
   "execution_count": 51,
   "metadata": {},
   "outputs": [
    {
     "data": {
      "text/plain": [
       "Timestamp('2010-01-05 00:00:00')"
      ]
     },
     "execution_count": 51,
     "metadata": {},
     "output_type": "execute_result"
    }
   ],
   "source": [
    "ts1.index[1]"
   ]
  },
  {
   "cell_type": "code",
   "execution_count": 52,
   "metadata": {},
   "outputs": [
    {
     "data": {
      "text/plain": [
       "0.37633848364131645"
      ]
     },
     "execution_count": 52,
     "metadata": {},
     "output_type": "execute_result"
    }
   ],
   "source": [
    "ts1[0]"
   ]
  },
  {
   "cell_type": "code",
   "execution_count": 53,
   "metadata": {},
   "outputs": [
    {
     "data": {
      "text/plain": [
       "-1.3594772220596052"
      ]
     },
     "execution_count": 53,
     "metadata": {},
     "output_type": "execute_result"
    }
   ],
   "source": [
    "ts1['2010-01-10']"
   ]
  },
  {
   "cell_type": "code",
   "execution_count": 54,
   "metadata": {},
   "outputs": [],
   "source": [
    "ts2 = pd.Series(np.random.randn(1000), index=pd.date_range('1/1/2000', periods=1000))"
   ]
  },
  {
   "cell_type": "code",
   "execution_count": 55,
   "metadata": {},
   "outputs": [
    {
     "data": {
      "text/plain": [
       "2000-01-01    0.246883\n",
       "2000-01-02    0.683932\n",
       "2000-01-03    0.208479\n",
       "2000-01-04    0.280897\n",
       "2000-01-05   -0.468285\n",
       "                ...   \n",
       "2002-09-22   -2.216030\n",
       "2002-09-23   -0.918361\n",
       "2002-09-24   -1.067837\n",
       "2002-09-25    0.144338\n",
       "2002-09-26    0.170918\n",
       "Freq: D, Length: 1000, dtype: float64"
      ]
     },
     "execution_count": 55,
     "metadata": {},
     "output_type": "execute_result"
    }
   ],
   "source": [
    "ts2"
   ]
  },
  {
   "cell_type": "code",
   "execution_count": 58,
   "metadata": {},
   "outputs": [
    {
     "data": {
      "text/plain": [
       "2001-07-01    1.382416\n",
       "2001-07-02   -0.857796\n",
       "2001-07-03   -0.776356\n",
       "2001-07-04   -1.419610\n",
       "2001-07-05   -0.772785\n",
       "2001-07-06   -1.173675\n",
       "2001-07-07   -0.715538\n",
       "2001-07-08    0.807734\n",
       "2001-07-09    0.398430\n",
       "2001-07-10    1.438085\n",
       "2001-07-11    1.323996\n",
       "2001-07-12    0.975351\n",
       "2001-07-13    1.391654\n",
       "2001-07-14   -1.407614\n",
       "2001-07-15   -1.165916\n",
       "2001-07-16    0.033209\n",
       "2001-07-17    0.521053\n",
       "2001-07-18   -0.818183\n",
       "2001-07-19   -0.167286\n",
       "2001-07-20    0.970131\n",
       "2001-07-21    0.510832\n",
       "2001-07-22   -1.169918\n",
       "2001-07-23    0.388616\n",
       "2001-07-24   -0.138497\n",
       "2001-07-25   -2.273032\n",
       "2001-07-26    0.290814\n",
       "2001-07-27   -0.010918\n",
       "2001-07-28   -1.009341\n",
       "2001-07-29   -0.286709\n",
       "2001-07-30    1.839432\n",
       "2001-07-31   -0.045939\n",
       "Freq: D, dtype: float64"
      ]
     },
     "execution_count": 58,
     "metadata": {},
     "output_type": "execute_result"
    }
   ],
   "source": [
    "ts2['2001-07']"
   ]
  },
  {
   "cell_type": "code",
   "execution_count": 60,
   "metadata": {},
   "outputs": [
    {
     "data": {
      "text/plain": [
       "2001-07-01    1.382416\n",
       "2001-07-02   -0.857796\n",
       "2001-07-03   -0.776356\n",
       "2001-07-04   -1.419610\n",
       "2001-07-05   -0.772785\n",
       "                ...   \n",
       "2002-09-22   -2.216030\n",
       "2002-09-23   -0.918361\n",
       "2002-09-24   -1.067837\n",
       "2002-09-25    0.144338\n",
       "2002-09-26    0.170918\n",
       "Freq: D, Length: 453, dtype: float64"
      ]
     },
     "execution_count": 60,
     "metadata": {},
     "output_type": "execute_result"
    }
   ],
   "source": [
    "ts2[datetime(2001,7,1):]"
   ]
  },
  {
   "cell_type": "code",
   "execution_count": 61,
   "metadata": {},
   "outputs": [
    {
     "data": {
      "text/plain": [
       "2001-01-01   -0.099775\n",
       "2001-01-02   -0.184389\n",
       "2001-01-03    0.105904\n",
       "2001-01-04    1.004280\n",
       "2001-01-05    1.610912\n",
       "                ...   \n",
       "2001-06-26   -1.538377\n",
       "2001-06-27    1.196881\n",
       "2001-06-28   -0.811477\n",
       "2001-06-29    1.163142\n",
       "2001-06-30    0.258430\n",
       "Freq: D, Length: 181, dtype: float64"
      ]
     },
     "execution_count": 61,
     "metadata": {},
     "output_type": "execute_result"
    }
   ],
   "source": [
    "ts2[datetime(2001,1,1):datetime(2001,6,30)]"
   ]
  },
  {
   "cell_type": "code",
   "execution_count": 62,
   "metadata": {},
   "outputs": [
    {
     "data": {
      "text/plain": [
       "2000-01-01    0.246883\n",
       "2000-01-02    0.683932\n",
       "2000-01-03    0.208479\n",
       "2000-01-04    0.280897\n",
       "2000-01-05   -0.468285\n",
       "                ...   \n",
       "2001-12-28   -1.195521\n",
       "2001-12-29   -0.825322\n",
       "2001-12-30    1.751989\n",
       "2001-12-31    0.236557\n",
       "2002-01-01   -1.666080\n",
       "Freq: D, Length: 732, dtype: float64"
      ]
     },
     "execution_count": 62,
     "metadata": {},
     "output_type": "execute_result"
    }
   ],
   "source": [
    "ts2.truncate(after='1/1/2002')"
   ]
  },
  {
   "cell_type": "code",
   "execution_count": 63,
   "metadata": {},
   "outputs": [
    {
     "data": {
      "text/plain": [
       "DatetimeIndex(['2000-01-05', '2000-01-12', '2000-01-19', '2000-01-26',\n",
       "               '2000-02-02', '2000-02-09', '2000-02-16', '2000-02-23',\n",
       "               '2000-03-01', '2000-03-08', '2000-03-15', '2000-03-22',\n",
       "               '2000-03-29', '2000-04-05', '2000-04-12', '2000-04-19',\n",
       "               '2000-04-26', '2000-05-03', '2000-05-10', '2000-05-17',\n",
       "               '2000-05-24', '2000-05-31', '2000-06-07', '2000-06-14',\n",
       "               '2000-06-21', '2000-06-28', '2000-07-05', '2000-07-12',\n",
       "               '2000-07-19', '2000-07-26', '2000-08-02', '2000-08-09',\n",
       "               '2000-08-16', '2000-08-23', '2000-08-30', '2000-09-06',\n",
       "               '2000-09-13', '2000-09-20', '2000-09-27', '2000-10-04',\n",
       "               '2000-10-11', '2000-10-18', '2000-10-25', '2000-11-01',\n",
       "               '2000-11-08', '2000-11-15', '2000-11-22', '2000-11-29',\n",
       "               '2000-12-06', '2000-12-13', '2000-12-20', '2000-12-27',\n",
       "               '2001-01-03', '2001-01-10', '2001-01-17', '2001-01-24',\n",
       "               '2001-01-31', '2001-02-07', '2001-02-14', '2001-02-21',\n",
       "               '2001-02-28', '2001-03-07', '2001-03-14', '2001-03-21',\n",
       "               '2001-03-28', '2001-04-04', '2001-04-11', '2001-04-18',\n",
       "               '2001-04-25', '2001-05-02', '2001-05-09', '2001-05-16',\n",
       "               '2001-05-23', '2001-05-30', '2001-06-06', '2001-06-13',\n",
       "               '2001-06-20', '2001-06-27', '2001-07-04', '2001-07-11',\n",
       "               '2001-07-18', '2001-07-25', '2001-08-01', '2001-08-08',\n",
       "               '2001-08-15', '2001-08-22', '2001-08-29', '2001-09-05',\n",
       "               '2001-09-12', '2001-09-19', '2001-09-26', '2001-10-03',\n",
       "               '2001-10-10', '2001-10-17', '2001-10-24', '2001-10-31',\n",
       "               '2001-11-07', '2001-11-14', '2001-11-21', '2001-11-28'],\n",
       "              dtype='datetime64[ns]', freq='W-WED')"
      ]
     },
     "execution_count": 63,
     "metadata": {},
     "output_type": "execute_result"
    }
   ],
   "source": [
    "pd.date_range('1/1/2000', periods=100, freq='W-WED')"
   ]
  },
  {
   "cell_type": "code",
   "execution_count": 64,
   "metadata": {},
   "outputs": [],
   "source": [
    "idx = pd.DatetimeIndex(['1/1/2000','1/2/2000','1/2/2000','1/2/2000','1/3/2000'])"
   ]
  },
  {
   "cell_type": "code",
   "execution_count": 65,
   "metadata": {},
   "outputs": [],
   "source": [
    "ts3 = pd.Series(np.arange(5),index=idx)"
   ]
  },
  {
   "cell_type": "code",
   "execution_count": 66,
   "metadata": {},
   "outputs": [
    {
     "data": {
      "text/plain": [
       "2000-01-01    0\n",
       "2000-01-02    1\n",
       "2000-01-02    2\n",
       "2000-01-02    3\n",
       "2000-01-03    4\n",
       "dtype: int32"
      ]
     },
     "execution_count": 66,
     "metadata": {},
     "output_type": "execute_result"
    }
   ],
   "source": [
    "ts3"
   ]
  },
  {
   "cell_type": "code",
   "execution_count": 67,
   "metadata": {},
   "outputs": [
    {
     "data": {
      "text/plain": [
       "False"
      ]
     },
     "execution_count": 67,
     "metadata": {},
     "output_type": "execute_result"
    }
   ],
   "source": [
    "ts3.index.is_unique"
   ]
  },
  {
   "cell_type": "code",
   "execution_count": 68,
   "metadata": {},
   "outputs": [
    {
     "data": {
      "text/plain": [
       "0"
      ]
     },
     "execution_count": 68,
     "metadata": {},
     "output_type": "execute_result"
    }
   ],
   "source": [
    "ts3['2000-01-01']"
   ]
  },
  {
   "cell_type": "code",
   "execution_count": 69,
   "metadata": {},
   "outputs": [
    {
     "data": {
      "text/plain": [
       "2000-01-02    1\n",
       "2000-01-02    2\n",
       "2000-01-02    3\n",
       "dtype: int32"
      ]
     },
     "execution_count": 69,
     "metadata": {},
     "output_type": "execute_result"
    }
   ],
   "source": [
    "ts3['2000-01-02']"
   ]
  },
  {
   "cell_type": "code",
   "execution_count": 70,
   "metadata": {},
   "outputs": [
    {
     "data": {
      "text/plain": [
       "2000-01-01    1\n",
       "2000-01-02    3\n",
       "2000-01-03    1\n",
       "dtype: int64"
      ]
     },
     "execution_count": 70,
     "metadata": {},
     "output_type": "execute_result"
    }
   ],
   "source": [
    "ts3.groupby(level=0).count()"
   ]
  },
  {
   "cell_type": "code",
   "execution_count": 71,
   "metadata": {},
   "outputs": [
    {
     "data": {
      "text/plain": [
       "2010-01-02    0.376338\n",
       "2010-01-05   -0.556140\n",
       "2010-01-07   -0.619890\n",
       "2010-01-08    0.234467\n",
       "2010-01-10   -1.359477\n",
       "2010-01-12   -1.278827\n",
       "dtype: float64"
      ]
     },
     "execution_count": 71,
     "metadata": {},
     "output_type": "execute_result"
    }
   ],
   "source": [
    "ts1"
   ]
  },
  {
   "cell_type": "code",
   "execution_count": 72,
   "metadata": {},
   "outputs": [
    {
     "data": {
      "text/plain": [
       "<pandas.core.resample.DatetimeIndexResampler object at 0x000002080A45F370>"
      ]
     },
     "execution_count": 72,
     "metadata": {},
     "output_type": "execute_result"
    }
   ],
   "source": [
    "ts1.resample('D')"
   ]
  },
  {
   "cell_type": "code",
   "execution_count": 74,
   "metadata": {},
   "outputs": [
    {
     "data": {
      "text/plain": [
       "DatetimeIndex(['2010-04-01', '2010-04-02', '2010-04-03', '2010-04-04',\n",
       "               '2010-04-05', '2010-04-06', '2010-04-07', '2010-04-08',\n",
       "               '2010-04-09', '2010-04-10', '2010-04-11', '2010-04-12',\n",
       "               '2010-04-13', '2010-04-14', '2010-04-15', '2010-04-16',\n",
       "               '2010-04-17', '2010-04-18', '2010-04-19', '2010-04-20'],\n",
       "              dtype='datetime64[ns]', freq='D')"
      ]
     },
     "execution_count": 74,
     "metadata": {},
     "output_type": "execute_result"
    }
   ],
   "source": [
    "pd.date_range(start='2010-04-01', periods=20)"
   ]
  },
  {
   "cell_type": "code",
   "execution_count": null,
   "metadata": {},
   "outputs": [],
   "source": []
  },
  {
   "cell_type": "code",
   "execution_count": 75,
   "metadata": {},
   "outputs": [
    {
     "data": {
      "text/plain": [
       "DatetimeIndex(['2010-05-13', '2010-05-14', '2010-05-15', '2010-05-16',\n",
       "               '2010-05-17', '2010-05-18', '2010-05-19', '2010-05-20',\n",
       "               '2010-05-21', '2010-05-22', '2010-05-23', '2010-05-24',\n",
       "               '2010-05-25', '2010-05-26', '2010-05-27', '2010-05-28',\n",
       "               '2010-05-29', '2010-05-30', '2010-05-31', '2010-06-01'],\n",
       "              dtype='datetime64[ns]', freq='D')"
      ]
     },
     "execution_count": 75,
     "metadata": {},
     "output_type": "execute_result"
    }
   ],
   "source": [
    "pd.date_range(end='2010-06-01', periods=20)"
   ]
  },
  {
   "cell_type": "code",
   "execution_count": 77,
   "metadata": {},
   "outputs": [
    {
     "data": {
      "text/plain": [
       "DatetimeIndex(['2020-01-01', '2020-02-03', '2020-03-02', '2020-04-01',\n",
       "               '2020-05-01', '2020-06-01', '2020-07-01', '2020-08-03',\n",
       "               '2020-09-01', '2020-10-01', '2020-11-02', '2020-12-01'],\n",
       "              dtype='datetime64[ns]', freq='BMS')"
      ]
     },
     "execution_count": 77,
     "metadata": {},
     "output_type": "execute_result"
    }
   ],
   "source": [
    "pd.date_range('2020-01-01','2020-12-01', freq='BMS')"
   ]
  },
  {
   "cell_type": "code",
   "execution_count": 78,
   "metadata": {},
   "outputs": [],
   "source": [
    "ts4 = pd.Series(np.random.randn(4),index=pd.date_range('1/1/2000',periods=4,freq='M'))"
   ]
  },
  {
   "cell_type": "code",
   "execution_count": 79,
   "metadata": {},
   "outputs": [
    {
     "data": {
      "text/plain": [
       "2000-01-31   -0.045300\n",
       "2000-02-29    0.737099\n",
       "2000-03-31   -0.276492\n",
       "2000-04-30    0.817818\n",
       "Freq: M, dtype: float64"
      ]
     },
     "execution_count": 79,
     "metadata": {},
     "output_type": "execute_result"
    }
   ],
   "source": [
    "ts4"
   ]
  },
  {
   "cell_type": "code",
   "execution_count": 80,
   "metadata": {},
   "outputs": [
    {
     "data": {
      "text/plain": [
       "2000-01-31         NaN\n",
       "2000-02-29         NaN\n",
       "2000-03-31   -0.045300\n",
       "2000-04-30    0.737099\n",
       "Freq: M, dtype: float64"
      ]
     },
     "execution_count": 80,
     "metadata": {},
     "output_type": "execute_result"
    }
   ],
   "source": [
    "ts4.shift(2)"
   ]
  },
  {
   "cell_type": "code",
   "execution_count": 81,
   "metadata": {},
   "outputs": [
    {
     "data": {
      "text/plain": [
       "2000-01-31   -0.276492\n",
       "2000-02-29    0.817818\n",
       "2000-03-31         NaN\n",
       "2000-04-30         NaN\n",
       "Freq: M, dtype: float64"
      ]
     },
     "execution_count": 81,
     "metadata": {},
     "output_type": "execute_result"
    }
   ],
   "source": [
    "ts4.shift(-2)"
   ]
  },
  {
   "cell_type": "code",
   "execution_count": 82,
   "metadata": {},
   "outputs": [
    {
     "data": {
      "text/plain": [
       "2000-02-03   -0.045300\n",
       "2000-03-03    0.737099\n",
       "2000-04-03   -0.276492\n",
       "2000-05-03    0.817818\n",
       "dtype: float64"
      ]
     },
     "execution_count": 82,
     "metadata": {},
     "output_type": "execute_result"
    }
   ],
   "source": [
    "ts4.shift(3, freq='D')"
   ]
  },
  {
   "cell_type": "code",
   "execution_count": 83,
   "metadata": {},
   "outputs": [],
   "source": [
    "dr1 = pd.date_range('2000-01-01',periods=100,freq='D')"
   ]
  },
  {
   "cell_type": "code",
   "execution_count": 84,
   "metadata": {},
   "outputs": [],
   "source": [
    "ts5 = pd.Series(np.random.randn(len(dr1)), index=dr1)"
   ]
  },
  {
   "cell_type": "code",
   "execution_count": 85,
   "metadata": {},
   "outputs": [
    {
     "data": {
      "text/plain": [
       "2000-01-01   -1.117232\n",
       "2000-01-02   -0.107155\n",
       "2000-01-03   -1.915156\n",
       "2000-01-04   -0.727265\n",
       "2000-01-05    1.696574\n",
       "                ...   \n",
       "2000-04-05   -1.056445\n",
       "2000-04-06    1.837725\n",
       "2000-04-07   -0.217234\n",
       "2000-04-08   -0.100966\n",
       "2000-04-09    0.102645\n",
       "Freq: D, Length: 100, dtype: float64"
      ]
     },
     "execution_count": 85,
     "metadata": {},
     "output_type": "execute_result"
    }
   ],
   "source": [
    "ts5"
   ]
  },
  {
   "cell_type": "code",
   "execution_count": 88,
   "metadata": {},
   "outputs": [
    {
     "data": {
      "text/plain": [
       "2000-01   -0.045300\n",
       "2000-02    0.737099\n",
       "2000-03   -0.276492\n",
       "2000-04    0.817818\n",
       "Freq: M, dtype: float64"
      ]
     },
     "execution_count": 88,
     "metadata": {},
     "output_type": "execute_result"
    }
   ],
   "source": [
    "ts4.resample('M',kind='period').mean()"
   ]
  },
  {
   "cell_type": "code",
   "execution_count": 89,
   "metadata": {},
   "outputs": [],
   "source": [
    "close_px = pd.read_csv('stock_px_2.csv',parse_dates=True, index_col=0)"
   ]
  },
  {
   "cell_type": "code",
   "execution_count": 90,
   "metadata": {},
   "outputs": [
    {
     "data": {
      "text/html": [
       "<div>\n",
       "<style scoped>\n",
       "    .dataframe tbody tr th:only-of-type {\n",
       "        vertical-align: middle;\n",
       "    }\n",
       "\n",
       "    .dataframe tbody tr th {\n",
       "        vertical-align: top;\n",
       "    }\n",
       "\n",
       "    .dataframe thead th {\n",
       "        text-align: right;\n",
       "    }\n",
       "</style>\n",
       "<table border=\"1\" class=\"dataframe\">\n",
       "  <thead>\n",
       "    <tr style=\"text-align: right;\">\n",
       "      <th></th>\n",
       "      <th>AAPL</th>\n",
       "      <th>MSFT</th>\n",
       "      <th>XOM</th>\n",
       "      <th>SPX</th>\n",
       "    </tr>\n",
       "  </thead>\n",
       "  <tbody>\n",
       "    <tr>\n",
       "      <th>2003-01-02</th>\n",
       "      <td>7.40</td>\n",
       "      <td>21.11</td>\n",
       "      <td>29.22</td>\n",
       "      <td>909.03</td>\n",
       "    </tr>\n",
       "    <tr>\n",
       "      <th>2003-01-03</th>\n",
       "      <td>7.45</td>\n",
       "      <td>21.14</td>\n",
       "      <td>29.24</td>\n",
       "      <td>908.59</td>\n",
       "    </tr>\n",
       "    <tr>\n",
       "      <th>2003-01-06</th>\n",
       "      <td>7.45</td>\n",
       "      <td>21.52</td>\n",
       "      <td>29.96</td>\n",
       "      <td>929.01</td>\n",
       "    </tr>\n",
       "    <tr>\n",
       "      <th>2003-01-07</th>\n",
       "      <td>7.43</td>\n",
       "      <td>21.93</td>\n",
       "      <td>28.95</td>\n",
       "      <td>922.93</td>\n",
       "    </tr>\n",
       "    <tr>\n",
       "      <th>2003-01-08</th>\n",
       "      <td>7.28</td>\n",
       "      <td>21.31</td>\n",
       "      <td>28.83</td>\n",
       "      <td>909.93</td>\n",
       "    </tr>\n",
       "    <tr>\n",
       "      <th>...</th>\n",
       "      <td>...</td>\n",
       "      <td>...</td>\n",
       "      <td>...</td>\n",
       "      <td>...</td>\n",
       "    </tr>\n",
       "    <tr>\n",
       "      <th>2011-10-10</th>\n",
       "      <td>388.81</td>\n",
       "      <td>26.94</td>\n",
       "      <td>76.28</td>\n",
       "      <td>1194.89</td>\n",
       "    </tr>\n",
       "    <tr>\n",
       "      <th>2011-10-11</th>\n",
       "      <td>400.29</td>\n",
       "      <td>27.00</td>\n",
       "      <td>76.27</td>\n",
       "      <td>1195.54</td>\n",
       "    </tr>\n",
       "    <tr>\n",
       "      <th>2011-10-12</th>\n",
       "      <td>402.19</td>\n",
       "      <td>26.96</td>\n",
       "      <td>77.16</td>\n",
       "      <td>1207.25</td>\n",
       "    </tr>\n",
       "    <tr>\n",
       "      <th>2011-10-13</th>\n",
       "      <td>408.43</td>\n",
       "      <td>27.18</td>\n",
       "      <td>76.37</td>\n",
       "      <td>1203.66</td>\n",
       "    </tr>\n",
       "    <tr>\n",
       "      <th>2011-10-14</th>\n",
       "      <td>422.00</td>\n",
       "      <td>27.27</td>\n",
       "      <td>78.11</td>\n",
       "      <td>1224.58</td>\n",
       "    </tr>\n",
       "  </tbody>\n",
       "</table>\n",
       "<p>2214 rows × 4 columns</p>\n",
       "</div>"
      ],
      "text/plain": [
       "              AAPL   MSFT    XOM      SPX\n",
       "2003-01-02    7.40  21.11  29.22   909.03\n",
       "2003-01-03    7.45  21.14  29.24   908.59\n",
       "2003-01-06    7.45  21.52  29.96   929.01\n",
       "2003-01-07    7.43  21.93  28.95   922.93\n",
       "2003-01-08    7.28  21.31  28.83   909.93\n",
       "...            ...    ...    ...      ...\n",
       "2011-10-10  388.81  26.94  76.28  1194.89\n",
       "2011-10-11  400.29  27.00  76.27  1195.54\n",
       "2011-10-12  402.19  26.96  77.16  1207.25\n",
       "2011-10-13  408.43  27.18  76.37  1203.66\n",
       "2011-10-14  422.00  27.27  78.11  1224.58\n",
       "\n",
       "[2214 rows x 4 columns]"
      ]
     },
     "execution_count": 90,
     "metadata": {},
     "output_type": "execute_result"
    }
   ],
   "source": [
    "close_px"
   ]
  },
  {
   "cell_type": "code",
   "execution_count": 91,
   "metadata": {},
   "outputs": [
    {
     "data": {
      "text/plain": [
       "DatetimeIndex(['2003-01-02', '2003-01-03', '2003-01-06', '2003-01-07',\n",
       "               '2003-01-08', '2003-01-09', '2003-01-10', '2003-01-13',\n",
       "               '2003-01-14', '2003-01-15',\n",
       "               ...\n",
       "               '2011-10-03', '2011-10-04', '2011-10-05', '2011-10-06',\n",
       "               '2011-10-07', '2011-10-10', '2011-10-11', '2011-10-12',\n",
       "               '2011-10-13', '2011-10-14'],\n",
       "              dtype='datetime64[ns]', length=2214, freq=None)"
      ]
     },
     "execution_count": 91,
     "metadata": {},
     "output_type": "execute_result"
    }
   ],
   "source": [
    "close_px.index"
   ]
  },
  {
   "cell_type": "code",
   "execution_count": 92,
   "metadata": {},
   "outputs": [],
   "source": [
    "ts6 = close_px.resample('B').ffill()"
   ]
  },
  {
   "cell_type": "code",
   "execution_count": 93,
   "metadata": {},
   "outputs": [
    {
     "data": {
      "text/html": [
       "<div>\n",
       "<style scoped>\n",
       "    .dataframe tbody tr th:only-of-type {\n",
       "        vertical-align: middle;\n",
       "    }\n",
       "\n",
       "    .dataframe tbody tr th {\n",
       "        vertical-align: top;\n",
       "    }\n",
       "\n",
       "    .dataframe thead th {\n",
       "        text-align: right;\n",
       "    }\n",
       "</style>\n",
       "<table border=\"1\" class=\"dataframe\">\n",
       "  <thead>\n",
       "    <tr style=\"text-align: right;\">\n",
       "      <th></th>\n",
       "      <th>AAPL</th>\n",
       "      <th>MSFT</th>\n",
       "      <th>XOM</th>\n",
       "      <th>SPX</th>\n",
       "    </tr>\n",
       "  </thead>\n",
       "  <tbody>\n",
       "    <tr>\n",
       "      <th>2003-01-02</th>\n",
       "      <td>7.40</td>\n",
       "      <td>21.11</td>\n",
       "      <td>29.22</td>\n",
       "      <td>909.03</td>\n",
       "    </tr>\n",
       "    <tr>\n",
       "      <th>2003-01-03</th>\n",
       "      <td>7.45</td>\n",
       "      <td>21.14</td>\n",
       "      <td>29.24</td>\n",
       "      <td>908.59</td>\n",
       "    </tr>\n",
       "    <tr>\n",
       "      <th>2003-01-06</th>\n",
       "      <td>7.45</td>\n",
       "      <td>21.52</td>\n",
       "      <td>29.96</td>\n",
       "      <td>929.01</td>\n",
       "    </tr>\n",
       "    <tr>\n",
       "      <th>2003-01-07</th>\n",
       "      <td>7.43</td>\n",
       "      <td>21.93</td>\n",
       "      <td>28.95</td>\n",
       "      <td>922.93</td>\n",
       "    </tr>\n",
       "    <tr>\n",
       "      <th>2003-01-08</th>\n",
       "      <td>7.28</td>\n",
       "      <td>21.31</td>\n",
       "      <td>28.83</td>\n",
       "      <td>909.93</td>\n",
       "    </tr>\n",
       "    <tr>\n",
       "      <th>...</th>\n",
       "      <td>...</td>\n",
       "      <td>...</td>\n",
       "      <td>...</td>\n",
       "      <td>...</td>\n",
       "    </tr>\n",
       "    <tr>\n",
       "      <th>2011-10-10</th>\n",
       "      <td>388.81</td>\n",
       "      <td>26.94</td>\n",
       "      <td>76.28</td>\n",
       "      <td>1194.89</td>\n",
       "    </tr>\n",
       "    <tr>\n",
       "      <th>2011-10-11</th>\n",
       "      <td>400.29</td>\n",
       "      <td>27.00</td>\n",
       "      <td>76.27</td>\n",
       "      <td>1195.54</td>\n",
       "    </tr>\n",
       "    <tr>\n",
       "      <th>2011-10-12</th>\n",
       "      <td>402.19</td>\n",
       "      <td>26.96</td>\n",
       "      <td>77.16</td>\n",
       "      <td>1207.25</td>\n",
       "    </tr>\n",
       "    <tr>\n",
       "      <th>2011-10-13</th>\n",
       "      <td>408.43</td>\n",
       "      <td>27.18</td>\n",
       "      <td>76.37</td>\n",
       "      <td>1203.66</td>\n",
       "    </tr>\n",
       "    <tr>\n",
       "      <th>2011-10-14</th>\n",
       "      <td>422.00</td>\n",
       "      <td>27.27</td>\n",
       "      <td>78.11</td>\n",
       "      <td>1224.58</td>\n",
       "    </tr>\n",
       "  </tbody>\n",
       "</table>\n",
       "<p>2292 rows × 4 columns</p>\n",
       "</div>"
      ],
      "text/plain": [
       "              AAPL   MSFT    XOM      SPX\n",
       "2003-01-02    7.40  21.11  29.22   909.03\n",
       "2003-01-03    7.45  21.14  29.24   908.59\n",
       "2003-01-06    7.45  21.52  29.96   929.01\n",
       "2003-01-07    7.43  21.93  28.95   922.93\n",
       "2003-01-08    7.28  21.31  28.83   909.93\n",
       "...            ...    ...    ...      ...\n",
       "2011-10-10  388.81  26.94  76.28  1194.89\n",
       "2011-10-11  400.29  27.00  76.27  1195.54\n",
       "2011-10-12  402.19  26.96  77.16  1207.25\n",
       "2011-10-13  408.43  27.18  76.37  1203.66\n",
       "2011-10-14  422.00  27.27  78.11  1224.58\n",
       "\n",
       "[2292 rows x 4 columns]"
      ]
     },
     "execution_count": 93,
     "metadata": {},
     "output_type": "execute_result"
    }
   ],
   "source": [
    "ts6"
   ]
  },
  {
   "cell_type": "code",
   "execution_count": 96,
   "metadata": {},
   "outputs": [
    {
     "data": {
      "application/javascript": [
       "/* Put everything inside the global mpl namespace */\n",
       "/* global mpl */\n",
       "window.mpl = {};\n",
       "\n",
       "mpl.get_websocket_type = function () {\n",
       "    if (typeof WebSocket !== 'undefined') {\n",
       "        return WebSocket;\n",
       "    } else if (typeof MozWebSocket !== 'undefined') {\n",
       "        return MozWebSocket;\n",
       "    } else {\n",
       "        alert(\n",
       "            'Your browser does not have WebSocket support. ' +\n",
       "                'Please try Chrome, Safari or Firefox ≥ 6. ' +\n",
       "                'Firefox 4 and 5 are also supported but you ' +\n",
       "                'have to enable WebSockets in about:config.'\n",
       "        );\n",
       "    }\n",
       "};\n",
       "\n",
       "mpl.figure = function (figure_id, websocket, ondownload, parent_element) {\n",
       "    this.id = figure_id;\n",
       "\n",
       "    this.ws = websocket;\n",
       "\n",
       "    this.supports_binary = this.ws.binaryType !== undefined;\n",
       "\n",
       "    if (!this.supports_binary) {\n",
       "        var warnings = document.getElementById('mpl-warnings');\n",
       "        if (warnings) {\n",
       "            warnings.style.display = 'block';\n",
       "            warnings.textContent =\n",
       "                'This browser does not support binary websocket messages. ' +\n",
       "                'Performance may be slow.';\n",
       "        }\n",
       "    }\n",
       "\n",
       "    this.imageObj = new Image();\n",
       "\n",
       "    this.context = undefined;\n",
       "    this.message = undefined;\n",
       "    this.canvas = undefined;\n",
       "    this.rubberband_canvas = undefined;\n",
       "    this.rubberband_context = undefined;\n",
       "    this.format_dropdown = undefined;\n",
       "\n",
       "    this.image_mode = 'full';\n",
       "\n",
       "    this.root = document.createElement('div');\n",
       "    this.root.setAttribute('style', 'display: inline-block');\n",
       "    this._root_extra_style(this.root);\n",
       "\n",
       "    parent_element.appendChild(this.root);\n",
       "\n",
       "    this._init_header(this);\n",
       "    this._init_canvas(this);\n",
       "    this._init_toolbar(this);\n",
       "\n",
       "    var fig = this;\n",
       "\n",
       "    this.waiting = false;\n",
       "\n",
       "    this.ws.onopen = function () {\n",
       "        fig.send_message('supports_binary', { value: fig.supports_binary });\n",
       "        fig.send_message('send_image_mode', {});\n",
       "        if (fig.ratio !== 1) {\n",
       "            fig.send_message('set_dpi_ratio', { dpi_ratio: fig.ratio });\n",
       "        }\n",
       "        fig.send_message('refresh', {});\n",
       "    };\n",
       "\n",
       "    this.imageObj.onload = function () {\n",
       "        if (fig.image_mode === 'full') {\n",
       "            // Full images could contain transparency (where diff images\n",
       "            // almost always do), so we need to clear the canvas so that\n",
       "            // there is no ghosting.\n",
       "            fig.context.clearRect(0, 0, fig.canvas.width, fig.canvas.height);\n",
       "        }\n",
       "        fig.context.drawImage(fig.imageObj, 0, 0);\n",
       "    };\n",
       "\n",
       "    this.imageObj.onunload = function () {\n",
       "        fig.ws.close();\n",
       "    };\n",
       "\n",
       "    this.ws.onmessage = this._make_on_message_function(this);\n",
       "\n",
       "    this.ondownload = ondownload;\n",
       "};\n",
       "\n",
       "mpl.figure.prototype._init_header = function () {\n",
       "    var titlebar = document.createElement('div');\n",
       "    titlebar.classList =\n",
       "        'ui-dialog-titlebar ui-widget-header ui-corner-all ui-helper-clearfix';\n",
       "    var titletext = document.createElement('div');\n",
       "    titletext.classList = 'ui-dialog-title';\n",
       "    titletext.setAttribute(\n",
       "        'style',\n",
       "        'width: 100%; text-align: center; padding: 3px;'\n",
       "    );\n",
       "    titlebar.appendChild(titletext);\n",
       "    this.root.appendChild(titlebar);\n",
       "    this.header = titletext;\n",
       "};\n",
       "\n",
       "mpl.figure.prototype._canvas_extra_style = function (_canvas_div) {};\n",
       "\n",
       "mpl.figure.prototype._root_extra_style = function (_canvas_div) {};\n",
       "\n",
       "mpl.figure.prototype._init_canvas = function () {\n",
       "    var fig = this;\n",
       "\n",
       "    var canvas_div = (this.canvas_div = document.createElement('div'));\n",
       "    canvas_div.setAttribute(\n",
       "        'style',\n",
       "        'border: 1px solid #ddd;' +\n",
       "            'box-sizing: content-box;' +\n",
       "            'clear: both;' +\n",
       "            'min-height: 1px;' +\n",
       "            'min-width: 1px;' +\n",
       "            'outline: 0;' +\n",
       "            'overflow: hidden;' +\n",
       "            'position: relative;' +\n",
       "            'resize: both;'\n",
       "    );\n",
       "\n",
       "    function on_keyboard_event_closure(name) {\n",
       "        return function (event) {\n",
       "            return fig.key_event(event, name);\n",
       "        };\n",
       "    }\n",
       "\n",
       "    canvas_div.addEventListener(\n",
       "        'keydown',\n",
       "        on_keyboard_event_closure('key_press')\n",
       "    );\n",
       "    canvas_div.addEventListener(\n",
       "        'keyup',\n",
       "        on_keyboard_event_closure('key_release')\n",
       "    );\n",
       "\n",
       "    this._canvas_extra_style(canvas_div);\n",
       "    this.root.appendChild(canvas_div);\n",
       "\n",
       "    var canvas = (this.canvas = document.createElement('canvas'));\n",
       "    canvas.classList.add('mpl-canvas');\n",
       "    canvas.setAttribute('style', 'box-sizing: content-box;');\n",
       "\n",
       "    this.context = canvas.getContext('2d');\n",
       "\n",
       "    var backingStore =\n",
       "        this.context.backingStorePixelRatio ||\n",
       "        this.context.webkitBackingStorePixelRatio ||\n",
       "        this.context.mozBackingStorePixelRatio ||\n",
       "        this.context.msBackingStorePixelRatio ||\n",
       "        this.context.oBackingStorePixelRatio ||\n",
       "        this.context.backingStorePixelRatio ||\n",
       "        1;\n",
       "\n",
       "    this.ratio = (window.devicePixelRatio || 1) / backingStore;\n",
       "    if (this.ratio !== 1) {\n",
       "        fig.send_message('set_dpi_ratio', { dpi_ratio: this.ratio });\n",
       "    }\n",
       "\n",
       "    var rubberband_canvas = (this.rubberband_canvas = document.createElement(\n",
       "        'canvas'\n",
       "    ));\n",
       "    rubberband_canvas.setAttribute(\n",
       "        'style',\n",
       "        'box-sizing: content-box; position: absolute; left: 0; top: 0; z-index: 1;'\n",
       "    );\n",
       "\n",
       "    var resizeObserver = new ResizeObserver(function (entries) {\n",
       "        var nentries = entries.length;\n",
       "        for (var i = 0; i < nentries; i++) {\n",
       "            var entry = entries[i];\n",
       "            var width, height;\n",
       "            if (entry.contentBoxSize) {\n",
       "                if (entry.contentBoxSize instanceof Array) {\n",
       "                    // Chrome 84 implements new version of spec.\n",
       "                    width = entry.contentBoxSize[0].inlineSize;\n",
       "                    height = entry.contentBoxSize[0].blockSize;\n",
       "                } else {\n",
       "                    // Firefox implements old version of spec.\n",
       "                    width = entry.contentBoxSize.inlineSize;\n",
       "                    height = entry.contentBoxSize.blockSize;\n",
       "                }\n",
       "            } else {\n",
       "                // Chrome <84 implements even older version of spec.\n",
       "                width = entry.contentRect.width;\n",
       "                height = entry.contentRect.height;\n",
       "            }\n",
       "\n",
       "            // Keep the size of the canvas and rubber band canvas in sync with\n",
       "            // the canvas container.\n",
       "            if (entry.devicePixelContentBoxSize) {\n",
       "                // Chrome 84 implements new version of spec.\n",
       "                canvas.setAttribute(\n",
       "                    'width',\n",
       "                    entry.devicePixelContentBoxSize[0].inlineSize\n",
       "                );\n",
       "                canvas.setAttribute(\n",
       "                    'height',\n",
       "                    entry.devicePixelContentBoxSize[0].blockSize\n",
       "                );\n",
       "            } else {\n",
       "                canvas.setAttribute('width', width * fig.ratio);\n",
       "                canvas.setAttribute('height', height * fig.ratio);\n",
       "            }\n",
       "            canvas.setAttribute(\n",
       "                'style',\n",
       "                'width: ' + width + 'px; height: ' + height + 'px;'\n",
       "            );\n",
       "\n",
       "            rubberband_canvas.setAttribute('width', width);\n",
       "            rubberband_canvas.setAttribute('height', height);\n",
       "\n",
       "            // And update the size in Python. We ignore the initial 0/0 size\n",
       "            // that occurs as the element is placed into the DOM, which should\n",
       "            // otherwise not happen due to the minimum size styling.\n",
       "            if (width != 0 && height != 0) {\n",
       "                fig.request_resize(width, height);\n",
       "            }\n",
       "        }\n",
       "    });\n",
       "    resizeObserver.observe(canvas_div);\n",
       "\n",
       "    function on_mouse_event_closure(name) {\n",
       "        return function (event) {\n",
       "            return fig.mouse_event(event, name);\n",
       "        };\n",
       "    }\n",
       "\n",
       "    rubberband_canvas.addEventListener(\n",
       "        'mousedown',\n",
       "        on_mouse_event_closure('button_press')\n",
       "    );\n",
       "    rubberband_canvas.addEventListener(\n",
       "        'mouseup',\n",
       "        on_mouse_event_closure('button_release')\n",
       "    );\n",
       "    // Throttle sequential mouse events to 1 every 20ms.\n",
       "    rubberband_canvas.addEventListener(\n",
       "        'mousemove',\n",
       "        on_mouse_event_closure('motion_notify')\n",
       "    );\n",
       "\n",
       "    rubberband_canvas.addEventListener(\n",
       "        'mouseenter',\n",
       "        on_mouse_event_closure('figure_enter')\n",
       "    );\n",
       "    rubberband_canvas.addEventListener(\n",
       "        'mouseleave',\n",
       "        on_mouse_event_closure('figure_leave')\n",
       "    );\n",
       "\n",
       "    canvas_div.addEventListener('wheel', function (event) {\n",
       "        if (event.deltaY < 0) {\n",
       "            event.step = 1;\n",
       "        } else {\n",
       "            event.step = -1;\n",
       "        }\n",
       "        on_mouse_event_closure('scroll')(event);\n",
       "    });\n",
       "\n",
       "    canvas_div.appendChild(canvas);\n",
       "    canvas_div.appendChild(rubberband_canvas);\n",
       "\n",
       "    this.rubberband_context = rubberband_canvas.getContext('2d');\n",
       "    this.rubberband_context.strokeStyle = '#000000';\n",
       "\n",
       "    this._resize_canvas = function (width, height, forward) {\n",
       "        if (forward) {\n",
       "            canvas_div.style.width = width + 'px';\n",
       "            canvas_div.style.height = height + 'px';\n",
       "        }\n",
       "    };\n",
       "\n",
       "    // Disable right mouse context menu.\n",
       "    this.rubberband_canvas.addEventListener('contextmenu', function (_e) {\n",
       "        event.preventDefault();\n",
       "        return false;\n",
       "    });\n",
       "\n",
       "    function set_focus() {\n",
       "        canvas.focus();\n",
       "        canvas_div.focus();\n",
       "    }\n",
       "\n",
       "    window.setTimeout(set_focus, 100);\n",
       "};\n",
       "\n",
       "mpl.figure.prototype._init_toolbar = function () {\n",
       "    var fig = this;\n",
       "\n",
       "    var toolbar = document.createElement('div');\n",
       "    toolbar.classList = 'mpl-toolbar';\n",
       "    this.root.appendChild(toolbar);\n",
       "\n",
       "    function on_click_closure(name) {\n",
       "        return function (_event) {\n",
       "            return fig.toolbar_button_onclick(name);\n",
       "        };\n",
       "    }\n",
       "\n",
       "    function on_mouseover_closure(tooltip) {\n",
       "        return function (event) {\n",
       "            if (!event.currentTarget.disabled) {\n",
       "                return fig.toolbar_button_onmouseover(tooltip);\n",
       "            }\n",
       "        };\n",
       "    }\n",
       "\n",
       "    fig.buttons = {};\n",
       "    var buttonGroup = document.createElement('div');\n",
       "    buttonGroup.classList = 'mpl-button-group';\n",
       "    for (var toolbar_ind in mpl.toolbar_items) {\n",
       "        var name = mpl.toolbar_items[toolbar_ind][0];\n",
       "        var tooltip = mpl.toolbar_items[toolbar_ind][1];\n",
       "        var image = mpl.toolbar_items[toolbar_ind][2];\n",
       "        var method_name = mpl.toolbar_items[toolbar_ind][3];\n",
       "\n",
       "        if (!name) {\n",
       "            /* Instead of a spacer, we start a new button group. */\n",
       "            if (buttonGroup.hasChildNodes()) {\n",
       "                toolbar.appendChild(buttonGroup);\n",
       "            }\n",
       "            buttonGroup = document.createElement('div');\n",
       "            buttonGroup.classList = 'mpl-button-group';\n",
       "            continue;\n",
       "        }\n",
       "\n",
       "        var button = (fig.buttons[name] = document.createElement('button'));\n",
       "        button.classList = 'mpl-widget';\n",
       "        button.setAttribute('role', 'button');\n",
       "        button.setAttribute('aria-disabled', 'false');\n",
       "        button.addEventListener('click', on_click_closure(method_name));\n",
       "        button.addEventListener('mouseover', on_mouseover_closure(tooltip));\n",
       "\n",
       "        var icon_img = document.createElement('img');\n",
       "        icon_img.src = '_images/' + image + '.png';\n",
       "        icon_img.srcset = '_images/' + image + '_large.png 2x';\n",
       "        icon_img.alt = tooltip;\n",
       "        button.appendChild(icon_img);\n",
       "\n",
       "        buttonGroup.appendChild(button);\n",
       "    }\n",
       "\n",
       "    if (buttonGroup.hasChildNodes()) {\n",
       "        toolbar.appendChild(buttonGroup);\n",
       "    }\n",
       "\n",
       "    var fmt_picker = document.createElement('select');\n",
       "    fmt_picker.classList = 'mpl-widget';\n",
       "    toolbar.appendChild(fmt_picker);\n",
       "    this.format_dropdown = fmt_picker;\n",
       "\n",
       "    for (var ind in mpl.extensions) {\n",
       "        var fmt = mpl.extensions[ind];\n",
       "        var option = document.createElement('option');\n",
       "        option.selected = fmt === mpl.default_extension;\n",
       "        option.innerHTML = fmt;\n",
       "        fmt_picker.appendChild(option);\n",
       "    }\n",
       "\n",
       "    var status_bar = document.createElement('span');\n",
       "    status_bar.classList = 'mpl-message';\n",
       "    toolbar.appendChild(status_bar);\n",
       "    this.message = status_bar;\n",
       "};\n",
       "\n",
       "mpl.figure.prototype.request_resize = function (x_pixels, y_pixels) {\n",
       "    // Request matplotlib to resize the figure. Matplotlib will then trigger a resize in the client,\n",
       "    // which will in turn request a refresh of the image.\n",
       "    this.send_message('resize', { width: x_pixels, height: y_pixels });\n",
       "};\n",
       "\n",
       "mpl.figure.prototype.send_message = function (type, properties) {\n",
       "    properties['type'] = type;\n",
       "    properties['figure_id'] = this.id;\n",
       "    this.ws.send(JSON.stringify(properties));\n",
       "};\n",
       "\n",
       "mpl.figure.prototype.send_draw_message = function () {\n",
       "    if (!this.waiting) {\n",
       "        this.waiting = true;\n",
       "        this.ws.send(JSON.stringify({ type: 'draw', figure_id: this.id }));\n",
       "    }\n",
       "};\n",
       "\n",
       "mpl.figure.prototype.handle_save = function (fig, _msg) {\n",
       "    var format_dropdown = fig.format_dropdown;\n",
       "    var format = format_dropdown.options[format_dropdown.selectedIndex].value;\n",
       "    fig.ondownload(fig, format);\n",
       "};\n",
       "\n",
       "mpl.figure.prototype.handle_resize = function (fig, msg) {\n",
       "    var size = msg['size'];\n",
       "    if (size[0] !== fig.canvas.width || size[1] !== fig.canvas.height) {\n",
       "        fig._resize_canvas(size[0], size[1], msg['forward']);\n",
       "        fig.send_message('refresh', {});\n",
       "    }\n",
       "};\n",
       "\n",
       "mpl.figure.prototype.handle_rubberband = function (fig, msg) {\n",
       "    var x0 = msg['x0'] / fig.ratio;\n",
       "    var y0 = (fig.canvas.height - msg['y0']) / fig.ratio;\n",
       "    var x1 = msg['x1'] / fig.ratio;\n",
       "    var y1 = (fig.canvas.height - msg['y1']) / fig.ratio;\n",
       "    x0 = Math.floor(x0) + 0.5;\n",
       "    y0 = Math.floor(y0) + 0.5;\n",
       "    x1 = Math.floor(x1) + 0.5;\n",
       "    y1 = Math.floor(y1) + 0.5;\n",
       "    var min_x = Math.min(x0, x1);\n",
       "    var min_y = Math.min(y0, y1);\n",
       "    var width = Math.abs(x1 - x0);\n",
       "    var height = Math.abs(y1 - y0);\n",
       "\n",
       "    fig.rubberband_context.clearRect(\n",
       "        0,\n",
       "        0,\n",
       "        fig.canvas.width / fig.ratio,\n",
       "        fig.canvas.height / fig.ratio\n",
       "    );\n",
       "\n",
       "    fig.rubberband_context.strokeRect(min_x, min_y, width, height);\n",
       "};\n",
       "\n",
       "mpl.figure.prototype.handle_figure_label = function (fig, msg) {\n",
       "    // Updates the figure title.\n",
       "    fig.header.textContent = msg['label'];\n",
       "};\n",
       "\n",
       "mpl.figure.prototype.handle_cursor = function (fig, msg) {\n",
       "    var cursor = msg['cursor'];\n",
       "    switch (cursor) {\n",
       "        case 0:\n",
       "            cursor = 'pointer';\n",
       "            break;\n",
       "        case 1:\n",
       "            cursor = 'default';\n",
       "            break;\n",
       "        case 2:\n",
       "            cursor = 'crosshair';\n",
       "            break;\n",
       "        case 3:\n",
       "            cursor = 'move';\n",
       "            break;\n",
       "    }\n",
       "    fig.rubberband_canvas.style.cursor = cursor;\n",
       "};\n",
       "\n",
       "mpl.figure.prototype.handle_message = function (fig, msg) {\n",
       "    fig.message.textContent = msg['message'];\n",
       "};\n",
       "\n",
       "mpl.figure.prototype.handle_draw = function (fig, _msg) {\n",
       "    // Request the server to send over a new figure.\n",
       "    fig.send_draw_message();\n",
       "};\n",
       "\n",
       "mpl.figure.prototype.handle_image_mode = function (fig, msg) {\n",
       "    fig.image_mode = msg['mode'];\n",
       "};\n",
       "\n",
       "mpl.figure.prototype.handle_history_buttons = function (fig, msg) {\n",
       "    for (var key in msg) {\n",
       "        if (!(key in fig.buttons)) {\n",
       "            continue;\n",
       "        }\n",
       "        fig.buttons[key].disabled = !msg[key];\n",
       "        fig.buttons[key].setAttribute('aria-disabled', !msg[key]);\n",
       "    }\n",
       "};\n",
       "\n",
       "mpl.figure.prototype.handle_navigate_mode = function (fig, msg) {\n",
       "    if (msg['mode'] === 'PAN') {\n",
       "        fig.buttons['Pan'].classList.add('active');\n",
       "        fig.buttons['Zoom'].classList.remove('active');\n",
       "    } else if (msg['mode'] === 'ZOOM') {\n",
       "        fig.buttons['Pan'].classList.remove('active');\n",
       "        fig.buttons['Zoom'].classList.add('active');\n",
       "    } else {\n",
       "        fig.buttons['Pan'].classList.remove('active');\n",
       "        fig.buttons['Zoom'].classList.remove('active');\n",
       "    }\n",
       "};\n",
       "\n",
       "mpl.figure.prototype.updated_canvas_event = function () {\n",
       "    // Called whenever the canvas gets updated.\n",
       "    this.send_message('ack', {});\n",
       "};\n",
       "\n",
       "// A function to construct a web socket function for onmessage handling.\n",
       "// Called in the figure constructor.\n",
       "mpl.figure.prototype._make_on_message_function = function (fig) {\n",
       "    return function socket_on_message(evt) {\n",
       "        if (evt.data instanceof Blob) {\n",
       "            /* FIXME: We get \"Resource interpreted as Image but\n",
       "             * transferred with MIME type text/plain:\" errors on\n",
       "             * Chrome.  But how to set the MIME type?  It doesn't seem\n",
       "             * to be part of the websocket stream */\n",
       "            evt.data.type = 'image/png';\n",
       "\n",
       "            /* Free the memory for the previous frames */\n",
       "            if (fig.imageObj.src) {\n",
       "                (window.URL || window.webkitURL).revokeObjectURL(\n",
       "                    fig.imageObj.src\n",
       "                );\n",
       "            }\n",
       "\n",
       "            fig.imageObj.src = (window.URL || window.webkitURL).createObjectURL(\n",
       "                evt.data\n",
       "            );\n",
       "            fig.updated_canvas_event();\n",
       "            fig.waiting = false;\n",
       "            return;\n",
       "        } else if (\n",
       "            typeof evt.data === 'string' &&\n",
       "            evt.data.slice(0, 21) === 'data:image/png;base64'\n",
       "        ) {\n",
       "            fig.imageObj.src = evt.data;\n",
       "            fig.updated_canvas_event();\n",
       "            fig.waiting = false;\n",
       "            return;\n",
       "        }\n",
       "\n",
       "        var msg = JSON.parse(evt.data);\n",
       "        var msg_type = msg['type'];\n",
       "\n",
       "        // Call the  \"handle_{type}\" callback, which takes\n",
       "        // the figure and JSON message as its only arguments.\n",
       "        try {\n",
       "            var callback = fig['handle_' + msg_type];\n",
       "        } catch (e) {\n",
       "            console.log(\n",
       "                \"No handler for the '\" + msg_type + \"' message type: \",\n",
       "                msg\n",
       "            );\n",
       "            return;\n",
       "        }\n",
       "\n",
       "        if (callback) {\n",
       "            try {\n",
       "                // console.log(\"Handling '\" + msg_type + \"' message: \", msg);\n",
       "                callback(fig, msg);\n",
       "            } catch (e) {\n",
       "                console.log(\n",
       "                    \"Exception inside the 'handler_\" + msg_type + \"' callback:\",\n",
       "                    e,\n",
       "                    e.stack,\n",
       "                    msg\n",
       "                );\n",
       "            }\n",
       "        }\n",
       "    };\n",
       "};\n",
       "\n",
       "// from http://stackoverflow.com/questions/1114465/getting-mouse-location-in-canvas\n",
       "mpl.findpos = function (e) {\n",
       "    //this section is from http://www.quirksmode.org/js/events_properties.html\n",
       "    var targ;\n",
       "    if (!e) {\n",
       "        e = window.event;\n",
       "    }\n",
       "    if (e.target) {\n",
       "        targ = e.target;\n",
       "    } else if (e.srcElement) {\n",
       "        targ = e.srcElement;\n",
       "    }\n",
       "    if (targ.nodeType === 3) {\n",
       "        // defeat Safari bug\n",
       "        targ = targ.parentNode;\n",
       "    }\n",
       "\n",
       "    // pageX,Y are the mouse positions relative to the document\n",
       "    var boundingRect = targ.getBoundingClientRect();\n",
       "    var x = e.pageX - (boundingRect.left + document.body.scrollLeft);\n",
       "    var y = e.pageY - (boundingRect.top + document.body.scrollTop);\n",
       "\n",
       "    return { x: x, y: y };\n",
       "};\n",
       "\n",
       "/*\n",
       " * return a copy of an object with only non-object keys\n",
       " * we need this to avoid circular references\n",
       " * http://stackoverflow.com/a/24161582/3208463\n",
       " */\n",
       "function simpleKeys(original) {\n",
       "    return Object.keys(original).reduce(function (obj, key) {\n",
       "        if (typeof original[key] !== 'object') {\n",
       "            obj[key] = original[key];\n",
       "        }\n",
       "        return obj;\n",
       "    }, {});\n",
       "}\n",
       "\n",
       "mpl.figure.prototype.mouse_event = function (event, name) {\n",
       "    var canvas_pos = mpl.findpos(event);\n",
       "\n",
       "    if (name === 'button_press') {\n",
       "        this.canvas.focus();\n",
       "        this.canvas_div.focus();\n",
       "    }\n",
       "\n",
       "    var x = canvas_pos.x * this.ratio;\n",
       "    var y = canvas_pos.y * this.ratio;\n",
       "\n",
       "    this.send_message(name, {\n",
       "        x: x,\n",
       "        y: y,\n",
       "        button: event.button,\n",
       "        step: event.step,\n",
       "        guiEvent: simpleKeys(event),\n",
       "    });\n",
       "\n",
       "    /* This prevents the web browser from automatically changing to\n",
       "     * the text insertion cursor when the button is pressed.  We want\n",
       "     * to control all of the cursor setting manually through the\n",
       "     * 'cursor' event from matplotlib */\n",
       "    event.preventDefault();\n",
       "    return false;\n",
       "};\n",
       "\n",
       "mpl.figure.prototype._key_event_extra = function (_event, _name) {\n",
       "    // Handle any extra behaviour associated with a key event\n",
       "};\n",
       "\n",
       "mpl.figure.prototype.key_event = function (event, name) {\n",
       "    // Prevent repeat events\n",
       "    if (name === 'key_press') {\n",
       "        if (event.which === this._key) {\n",
       "            return;\n",
       "        } else {\n",
       "            this._key = event.which;\n",
       "        }\n",
       "    }\n",
       "    if (name === 'key_release') {\n",
       "        this._key = null;\n",
       "    }\n",
       "\n",
       "    var value = '';\n",
       "    if (event.ctrlKey && event.which !== 17) {\n",
       "        value += 'ctrl+';\n",
       "    }\n",
       "    if (event.altKey && event.which !== 18) {\n",
       "        value += 'alt+';\n",
       "    }\n",
       "    if (event.shiftKey && event.which !== 16) {\n",
       "        value += 'shift+';\n",
       "    }\n",
       "\n",
       "    value += 'k';\n",
       "    value += event.which.toString();\n",
       "\n",
       "    this._key_event_extra(event, name);\n",
       "\n",
       "    this.send_message(name, { key: value, guiEvent: simpleKeys(event) });\n",
       "    return false;\n",
       "};\n",
       "\n",
       "mpl.figure.prototype.toolbar_button_onclick = function (name) {\n",
       "    if (name === 'download') {\n",
       "        this.handle_save(this, null);\n",
       "    } else {\n",
       "        this.send_message('toolbar_button', { name: name });\n",
       "    }\n",
       "};\n",
       "\n",
       "mpl.figure.prototype.toolbar_button_onmouseover = function (tooltip) {\n",
       "    this.message.textContent = tooltip;\n",
       "};\n",
       "mpl.toolbar_items = [[\"Home\", \"Reset original view\", \"fa fa-home icon-home\", \"home\"], [\"Back\", \"Back to previous view\", \"fa fa-arrow-left icon-arrow-left\", \"back\"], [\"Forward\", \"Forward to next view\", \"fa fa-arrow-right icon-arrow-right\", \"forward\"], [\"\", \"\", \"\", \"\"], [\"Pan\", \"Left button pans, Right button zooms\\nx/y fixes axis, CTRL fixes aspect\", \"fa fa-arrows icon-move\", \"pan\"], [\"Zoom\", \"Zoom to rectangle\\nx/y fixes axis, CTRL fixes aspect\", \"fa fa-square-o icon-check-empty\", \"zoom\"], [\"\", \"\", \"\", \"\"], [\"Download\", \"Download plot\", \"fa fa-floppy-o icon-save\", \"download\"]];\n",
       "\n",
       "mpl.extensions = [\"eps\", \"jpeg\", \"pdf\", \"png\", \"ps\", \"raw\", \"svg\", \"tif\"];\n",
       "\n",
       "mpl.default_extension = \"png\";/* global mpl */\n",
       "\n",
       "var comm_websocket_adapter = function (comm) {\n",
       "    // Create a \"websocket\"-like object which calls the given IPython comm\n",
       "    // object with the appropriate methods. Currently this is a non binary\n",
       "    // socket, so there is still some room for performance tuning.\n",
       "    var ws = {};\n",
       "\n",
       "    ws.close = function () {\n",
       "        comm.close();\n",
       "    };\n",
       "    ws.send = function (m) {\n",
       "        //console.log('sending', m);\n",
       "        comm.send(m);\n",
       "    };\n",
       "    // Register the callback with on_msg.\n",
       "    comm.on_msg(function (msg) {\n",
       "        //console.log('receiving', msg['content']['data'], msg);\n",
       "        // Pass the mpl event to the overridden (by mpl) onmessage function.\n",
       "        ws.onmessage(msg['content']['data']);\n",
       "    });\n",
       "    return ws;\n",
       "};\n",
       "\n",
       "mpl.mpl_figure_comm = function (comm, msg) {\n",
       "    // This is the function which gets called when the mpl process\n",
       "    // starts-up an IPython Comm through the \"matplotlib\" channel.\n",
       "\n",
       "    var id = msg.content.data.id;\n",
       "    // Get hold of the div created by the display call when the Comm\n",
       "    // socket was opened in Python.\n",
       "    var element = document.getElementById(id);\n",
       "    var ws_proxy = comm_websocket_adapter(comm);\n",
       "\n",
       "    function ondownload(figure, _format) {\n",
       "        window.open(figure.canvas.toDataURL());\n",
       "    }\n",
       "\n",
       "    var fig = new mpl.figure(id, ws_proxy, ondownload, element);\n",
       "\n",
       "    // Call onopen now - mpl needs it, as it is assuming we've passed it a real\n",
       "    // web socket which is closed, not our websocket->open comm proxy.\n",
       "    ws_proxy.onopen();\n",
       "\n",
       "    fig.parent_element = element;\n",
       "    fig.cell_info = mpl.find_output_cell(\"<div id='\" + id + \"'></div>\");\n",
       "    if (!fig.cell_info) {\n",
       "        console.error('Failed to find cell for figure', id, fig);\n",
       "        return;\n",
       "    }\n",
       "    fig.cell_info[0].output_area.element.one(\n",
       "        'cleared',\n",
       "        { fig: fig },\n",
       "        fig._remove_fig_handler\n",
       "    );\n",
       "};\n",
       "\n",
       "mpl.figure.prototype.handle_close = function (fig, msg) {\n",
       "    var width = fig.canvas.width / fig.ratio;\n",
       "    fig.cell_info[0].output_area.element.off(\n",
       "        'cleared',\n",
       "        fig._remove_fig_handler\n",
       "    );\n",
       "\n",
       "    // Update the output cell to use the data from the current canvas.\n",
       "    fig.push_to_output();\n",
       "    var dataURL = fig.canvas.toDataURL();\n",
       "    // Re-enable the keyboard manager in IPython - without this line, in FF,\n",
       "    // the notebook keyboard shortcuts fail.\n",
       "    IPython.keyboard_manager.enable();\n",
       "    fig.parent_element.innerHTML =\n",
       "        '<img src=\"' + dataURL + '\" width=\"' + width + '\">';\n",
       "    fig.close_ws(fig, msg);\n",
       "};\n",
       "\n",
       "mpl.figure.prototype.close_ws = function (fig, msg) {\n",
       "    fig.send_message('closing', msg);\n",
       "    // fig.ws.close()\n",
       "};\n",
       "\n",
       "mpl.figure.prototype.push_to_output = function (_remove_interactive) {\n",
       "    // Turn the data on the canvas into data in the output cell.\n",
       "    var width = this.canvas.width / this.ratio;\n",
       "    var dataURL = this.canvas.toDataURL();\n",
       "    this.cell_info[1]['text/html'] =\n",
       "        '<img src=\"' + dataURL + '\" width=\"' + width + '\">';\n",
       "};\n",
       "\n",
       "mpl.figure.prototype.updated_canvas_event = function () {\n",
       "    // Tell IPython that the notebook contents must change.\n",
       "    IPython.notebook.set_dirty(true);\n",
       "    this.send_message('ack', {});\n",
       "    var fig = this;\n",
       "    // Wait a second, then push the new image to the DOM so\n",
       "    // that it is saved nicely (might be nice to debounce this).\n",
       "    setTimeout(function () {\n",
       "        fig.push_to_output();\n",
       "    }, 1000);\n",
       "};\n",
       "\n",
       "mpl.figure.prototype._init_toolbar = function () {\n",
       "    var fig = this;\n",
       "\n",
       "    var toolbar = document.createElement('div');\n",
       "    toolbar.classList = 'btn-toolbar';\n",
       "    this.root.appendChild(toolbar);\n",
       "\n",
       "    function on_click_closure(name) {\n",
       "        return function (_event) {\n",
       "            return fig.toolbar_button_onclick(name);\n",
       "        };\n",
       "    }\n",
       "\n",
       "    function on_mouseover_closure(tooltip) {\n",
       "        return function (event) {\n",
       "            if (!event.currentTarget.disabled) {\n",
       "                return fig.toolbar_button_onmouseover(tooltip);\n",
       "            }\n",
       "        };\n",
       "    }\n",
       "\n",
       "    fig.buttons = {};\n",
       "    var buttonGroup = document.createElement('div');\n",
       "    buttonGroup.classList = 'btn-group';\n",
       "    var button;\n",
       "    for (var toolbar_ind in mpl.toolbar_items) {\n",
       "        var name = mpl.toolbar_items[toolbar_ind][0];\n",
       "        var tooltip = mpl.toolbar_items[toolbar_ind][1];\n",
       "        var image = mpl.toolbar_items[toolbar_ind][2];\n",
       "        var method_name = mpl.toolbar_items[toolbar_ind][3];\n",
       "\n",
       "        if (!name) {\n",
       "            /* Instead of a spacer, we start a new button group. */\n",
       "            if (buttonGroup.hasChildNodes()) {\n",
       "                toolbar.appendChild(buttonGroup);\n",
       "            }\n",
       "            buttonGroup = document.createElement('div');\n",
       "            buttonGroup.classList = 'btn-group';\n",
       "            continue;\n",
       "        }\n",
       "\n",
       "        button = fig.buttons[name] = document.createElement('button');\n",
       "        button.classList = 'btn btn-default';\n",
       "        button.href = '#';\n",
       "        button.title = name;\n",
       "        button.innerHTML = '<i class=\"fa ' + image + ' fa-lg\"></i>';\n",
       "        button.addEventListener('click', on_click_closure(method_name));\n",
       "        button.addEventListener('mouseover', on_mouseover_closure(tooltip));\n",
       "        buttonGroup.appendChild(button);\n",
       "    }\n",
       "\n",
       "    if (buttonGroup.hasChildNodes()) {\n",
       "        toolbar.appendChild(buttonGroup);\n",
       "    }\n",
       "\n",
       "    // Add the status bar.\n",
       "    var status_bar = document.createElement('span');\n",
       "    status_bar.classList = 'mpl-message pull-right';\n",
       "    toolbar.appendChild(status_bar);\n",
       "    this.message = status_bar;\n",
       "\n",
       "    // Add the close button to the window.\n",
       "    var buttongrp = document.createElement('div');\n",
       "    buttongrp.classList = 'btn-group inline pull-right';\n",
       "    button = document.createElement('button');\n",
       "    button.classList = 'btn btn-mini btn-primary';\n",
       "    button.href = '#';\n",
       "    button.title = 'Stop Interaction';\n",
       "    button.innerHTML = '<i class=\"fa fa-power-off icon-remove icon-large\"></i>';\n",
       "    button.addEventListener('click', function (_evt) {\n",
       "        fig.handle_close(fig, {});\n",
       "    });\n",
       "    button.addEventListener(\n",
       "        'mouseover',\n",
       "        on_mouseover_closure('Stop Interaction')\n",
       "    );\n",
       "    buttongrp.appendChild(button);\n",
       "    var titlebar = this.root.querySelector('.ui-dialog-titlebar');\n",
       "    titlebar.insertBefore(buttongrp, titlebar.firstChild);\n",
       "};\n",
       "\n",
       "mpl.figure.prototype._remove_fig_handler = function (event) {\n",
       "    var fig = event.data.fig;\n",
       "    fig.close_ws(fig, {});\n",
       "};\n",
       "\n",
       "mpl.figure.prototype._root_extra_style = function (el) {\n",
       "    el.style.boxSizing = 'content-box'; // override notebook setting of border-box.\n",
       "};\n",
       "\n",
       "mpl.figure.prototype._canvas_extra_style = function (el) {\n",
       "    // this is important to make the div 'focusable\n",
       "    el.setAttribute('tabindex', 0);\n",
       "    // reach out to IPython and tell the keyboard manager to turn it's self\n",
       "    // off when our div gets focus\n",
       "\n",
       "    // location in version 3\n",
       "    if (IPython.notebook.keyboard_manager) {\n",
       "        IPython.notebook.keyboard_manager.register_events(el);\n",
       "    } else {\n",
       "        // location in version 2\n",
       "        IPython.keyboard_manager.register_events(el);\n",
       "    }\n",
       "};\n",
       "\n",
       "mpl.figure.prototype._key_event_extra = function (event, _name) {\n",
       "    var manager = IPython.notebook.keyboard_manager;\n",
       "    if (!manager) {\n",
       "        manager = IPython.keyboard_manager;\n",
       "    }\n",
       "\n",
       "    // Check for shift+enter\n",
       "    if (event.shiftKey && event.which === 13) {\n",
       "        this.canvas_div.blur();\n",
       "        // select the cell after this one\n",
       "        var index = IPython.notebook.find_cell_index(this.cell_info[0]);\n",
       "        IPython.notebook.select(index + 1);\n",
       "    }\n",
       "};\n",
       "\n",
       "mpl.figure.prototype.handle_save = function (fig, _msg) {\n",
       "    fig.ondownload(fig, null);\n",
       "};\n",
       "\n",
       "mpl.find_output_cell = function (html_output) {\n",
       "    // Return the cell and output element which can be found *uniquely* in the notebook.\n",
       "    // Note - this is a bit hacky, but it is done because the \"notebook_saving.Notebook\"\n",
       "    // IPython event is triggered only after the cells have been serialised, which for\n",
       "    // our purposes (turning an active figure into a static one), is too late.\n",
       "    var cells = IPython.notebook.get_cells();\n",
       "    var ncells = cells.length;\n",
       "    for (var i = 0; i < ncells; i++) {\n",
       "        var cell = cells[i];\n",
       "        if (cell.cell_type === 'code') {\n",
       "            for (var j = 0; j < cell.output_area.outputs.length; j++) {\n",
       "                var data = cell.output_area.outputs[j];\n",
       "                if (data.data) {\n",
       "                    // IPython >= 3 moved mimebundle to data attribute of output\n",
       "                    data = data.data;\n",
       "                }\n",
       "                if (data['text/html'] === html_output) {\n",
       "                    return [cell, data, j];\n",
       "                }\n",
       "            }\n",
       "        }\n",
       "    }\n",
       "};\n",
       "\n",
       "// Register the function which deals with the matplotlib target/channel.\n",
       "// The kernel may be null if the page has been refreshed.\n",
       "if (IPython.notebook.kernel !== null) {\n",
       "    IPython.notebook.kernel.comm_manager.register_target(\n",
       "        'matplotlib',\n",
       "        mpl.mpl_figure_comm\n",
       "    );\n",
       "}\n"
      ],
      "text/plain": [
       "<IPython.core.display.Javascript object>"
      ]
     },
     "metadata": {},
     "output_type": "display_data"
    },
    {
     "data": {
      "text/html": [
       "<img src=\"data:image/png;base64,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\" width=\"640\">"
      ],
      "text/plain": [
       "<IPython.core.display.HTML object>"
      ]
     },
     "metadata": {},
     "output_type": "display_data"
    },
    {
     "data": {
      "text/plain": [
       "<AxesSubplot:>"
      ]
     },
     "execution_count": 96,
     "metadata": {},
     "output_type": "execute_result"
    }
   ],
   "source": [
    "%matplotlib notebook\n",
    "import matplotlib.pyplot as plt\n",
    "import numpy as np\n",
    "import pandas as pd\n",
    "import seaborn as sns\n",
    "fig = plt.figure()\n",
    "close_px.AAPL.plot()\n",
    "close_px.AAPL.rolling(250).mean().plot()\n",
    "close_px.AAPL.rolling(50).mean().plot()\n",
    "close_px.AAPL.rolling('120D').mean().plot()"
   ]
  }
 ],
 "metadata": {
  "kernelspec": {
   "display_name": "Python 3",
   "language": "python",
   "name": "python3"
  },
  "language_info": {
   "codemirror_mode": {
    "name": "ipython",
    "version": 3
   },
   "file_extension": ".py",
   "mimetype": "text/x-python",
   "name": "python",
   "nbconvert_exporter": "python",
   "pygments_lexer": "ipython3",
   "version": "3.8.5"
  }
 },
 "nbformat": 4,
 "nbformat_minor": 4
}
